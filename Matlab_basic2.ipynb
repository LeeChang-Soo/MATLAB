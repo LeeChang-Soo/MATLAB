{
 "cells": [
  {
   "cell_type": "markdown",
   "metadata": {},
   "source": [
    "# MATLAB 기초 연습"
   ]
  },
  {
   "cell_type": "code",
   "execution_count": 1,
   "metadata": {},
   "outputs": [
    {
     "name": "stdout",
     "output_type": "stream",
     "text": [
      "\n",
      "A =\n",
      "\n",
      "   100   200   300   400   500\n",
      "\n"
     ]
    }
   ],
   "source": [
    "A = [100 200 300 400 500]"
   ]
  },
  {
   "cell_type": "code",
   "execution_count": 2,
   "metadata": {},
   "outputs": [
    {
     "name": "stdout",
     "output_type": "stream",
     "text": [
      "\n",
      "X =\n",
      "\n",
      "     5    10    15    20    25    30\n",
      "\n"
     ]
    }
   ],
   "source": [
    "X = [5:5:30]"
   ]
  },
  {
   "cell_type": "code",
   "execution_count": 4,
   "metadata": {},
   "outputs": [
    {
     "name": "stdout",
     "output_type": "stream",
     "text": [
      "\n",
      "X =\n",
      "\n",
      "     5    10    15    20    25    30\n",
      "\n"
     ]
    }
   ],
   "source": [
    "X = linspace(5, 30, 6)"
   ]
  },
  {
   "cell_type": "code",
   "execution_count": 5,
   "metadata": {},
   "outputs": [
    {
     "name": "stdout",
     "output_type": "stream",
     "text": [
      "\n",
      "X =\n",
      "\n",
      "     1     2     3\n",
      "     4     5     6\n",
      "\n"
     ]
    }
   ],
   "source": [
    "X = [1 2 3; 4 5 6]"
   ]
  },
  {
   "cell_type": "code",
   "execution_count": 6,
   "metadata": {},
   "outputs": [
    {
     "name": "stdout",
     "output_type": "stream",
     "text": [
      "\n",
      "ans =\n",
      "\n",
      "     0     0     0\n",
      "     0     0     0\n",
      "     0     0     0\n",
      "\n"
     ]
    }
   ],
   "source": [
    "zeros(3, 3)"
   ]
  },
  {
   "cell_type": "code",
   "execution_count": 7,
   "metadata": {},
   "outputs": [
    {
     "name": "stdout",
     "output_type": "stream",
     "text": [
      "\n",
      "ans =\n",
      "\n",
      "     1     1     1\n",
      "     1     1     1\n",
      "     1     1     1\n",
      "\n"
     ]
    }
   ],
   "source": [
    "ones(3,3)"
   ]
  },
  {
   "cell_type": "code",
   "execution_count": 8,
   "metadata": {},
   "outputs": [
    {
     "name": "stdout",
     "output_type": "stream",
     "text": [
      "\n",
      "X =\n",
      "\n",
      "     1     2     3\n",
      "     4     5     6\n",
      "     7     8     9\n",
      "\n"
     ]
    }
   ],
   "source": [
    "X = [1 2 3; 4 5 6; 7 8 9]"
   ]
  },
  {
   "cell_type": "code",
   "execution_count": 9,
   "metadata": {},
   "outputs": [
    {
     "name": "stdout",
     "output_type": "stream",
     "text": [
      "\n",
      "Y =\n",
      "\n",
      "     1     4     7\n",
      "     2     5     8\n",
      "     3     6     9\n",
      "\n"
     ]
    }
   ],
   "source": [
    "Y = X'"
   ]
  },
  {
   "cell_type": "code",
   "execution_count": 10,
   "metadata": {},
   "outputs": [
    {
     "name": "stdout",
     "output_type": "stream",
     "text": [
      "\n",
      "ans =\n",
      "\n",
      "     1     0     0\n",
      "     0     1     0\n",
      "     0     0     1\n",
      "\n"
     ]
    }
   ],
   "source": [
    "eye(3)"
   ]
  },
  {
   "cell_type": "code",
   "execution_count": 11,
   "metadata": {},
   "outputs": [
    {
     "name": "stdout",
     "output_type": "stream",
     "text": [
      "\n",
      "X =\n",
      "\n",
      "     3     6     4     2     7\n",
      "\n"
     ]
    }
   ],
   "source": [
    "X = [3 6 4 2 7]"
   ]
  },
  {
   "cell_type": "code",
   "execution_count": 12,
   "metadata": {},
   "outputs": [
    {
     "name": "stdout",
     "output_type": "stream",
     "text": [
      "\n",
      "ans =\n",
      "\n",
      "     6\n",
      "\n"
     ]
    }
   ],
   "source": [
    "X(2)"
   ]
  },
  {
   "cell_type": "code",
   "execution_count": 13,
   "metadata": {},
   "outputs": [
    {
     "name": "stdout",
     "output_type": "stream",
     "text": [
      "\n",
      "X =\n",
      "\n",
      "     1     2     3\n",
      "     4     5     6\n",
      "     7     8     9\n",
      "\n"
     ]
    }
   ],
   "source": [
    "X = [1 2 3; 4 5 6; 7 8 9]"
   ]
  },
  {
   "cell_type": "code",
   "execution_count": 14,
   "metadata": {},
   "outputs": [
    {
     "name": "stdout",
     "output_type": "stream",
     "text": [
      "\n",
      "ans =\n",
      "\n",
      "     2\n",
      "\n"
     ]
    }
   ],
   "source": [
    "X(1,2)"
   ]
  },
  {
   "cell_type": "code",
   "execution_count": 15,
   "metadata": {},
   "outputs": [
    {
     "name": "stdout",
     "output_type": "stream",
     "text": [
      "\n",
      "X =\n",
      "\n",
      "    11    12    13\n",
      "    21    22    23\n",
      "    31    32    33\n",
      "\n"
     ]
    }
   ],
   "source": [
    "X = [11 12 13; 21 22 23; 31 32 33]"
   ]
  },
  {
   "cell_type": "code",
   "execution_count": 16,
   "metadata": {},
   "outputs": [
    {
     "name": "stdout",
     "output_type": "stream",
     "text": [
      "\n",
      "ans =\n",
      "\n",
      "    11\n",
      "    21\n",
      "    31\n",
      "\n"
     ]
    }
   ],
   "source": [
    "X(:, 1)"
   ]
  },
  {
   "cell_type": "code",
   "execution_count": 17,
   "metadata": {},
   "outputs": [
    {
     "name": "stdout",
     "output_type": "stream",
     "text": [
      "\n",
      "ans =\n",
      "\n",
      "    11    12    13\n",
      "\n"
     ]
    }
   ],
   "source": [
    "X(1, :)"
   ]
  },
  {
   "cell_type": "code",
   "execution_count": 18,
   "metadata": {},
   "outputs": [
    {
     "name": "stdout",
     "output_type": "stream",
     "text": [
      "\n",
      "ans =\n",
      "\n",
      "    12    13\n",
      "    22    23\n",
      "    32    33\n",
      "\n"
     ]
    }
   ],
   "source": [
    "X(:, 2:3)"
   ]
  },
  {
   "cell_type": "code",
   "execution_count": 19,
   "metadata": {},
   "outputs": [
    {
     "name": "stdout",
     "output_type": "stream",
     "text": [
      "\n",
      "ans =\n",
      "\n",
      "    21    22    23\n",
      "    31    32    33\n",
      "\n"
     ]
    }
   ],
   "source": [
    "X(2:3, :)"
   ]
  },
  {
   "cell_type": "code",
   "execution_count": 20,
   "metadata": {},
   "outputs": [
    {
     "name": "stdout",
     "output_type": "stream",
     "text": [
      "\n",
      "X =\n",
      "\n",
      "    11    12    13\n",
      "    21    22    23\n",
      "    31    32    33\n",
      "\n"
     ]
    }
   ],
   "source": [
    "X"
   ]
  },
  {
   "cell_type": "code",
   "execution_count": 21,
   "metadata": {},
   "outputs": [
    {
     "name": "stdout",
     "output_type": "stream",
     "text": [
      "\n",
      "X =\n",
      "\n",
      "    11    12    13\n",
      "    21    22    23\n",
      "    31    32    33\n",
      "    41    42    43\n",
      "\n"
     ]
    }
   ],
   "source": [
    "X(4, :) = [41 42 43]"
   ]
  },
  {
   "cell_type": "code",
   "execution_count": 22,
   "metadata": {},
   "outputs": [
    {
     "name": "stdout",
     "output_type": "stream",
     "text": [
      "\n",
      "A =\n",
      "\n",
      "     1     2\n",
      "     3     4\n",
      "\n"
     ]
    }
   ],
   "source": [
    "A = [1 2; 3 4]"
   ]
  },
  {
   "cell_type": "code",
   "execution_count": 23,
   "metadata": {},
   "outputs": [
    {
     "name": "stdout",
     "output_type": "stream",
     "text": [
      "\n",
      "B =\n",
      "\n",
      "     5     6\n",
      "     7     8\n",
      "\n"
     ]
    }
   ],
   "source": [
    "B = [5 6; 7 8]"
   ]
  },
  {
   "cell_type": "code",
   "execution_count": 24,
   "metadata": {},
   "outputs": [
    {
     "name": "stdout",
     "output_type": "stream",
     "text": [
      "\n",
      "C =\n",
      "\n",
      "     1     2     5     6\n",
      "     3     4     7     8\n",
      "\n"
     ]
    }
   ],
   "source": [
    "C = [A B]"
   ]
  },
  {
   "cell_type": "code",
   "execution_count": 25,
   "metadata": {},
   "outputs": [
    {
     "name": "stdout",
     "output_type": "stream",
     "text": [
      "\n",
      "E =\n",
      "\n",
      "     1     2     3\n",
      "\n"
     ]
    }
   ],
   "source": [
    "E = [1 2 3]"
   ]
  },
  {
   "cell_type": "code",
   "execution_count": 26,
   "metadata": {},
   "outputs": [
    {
     "name": "stdout",
     "output_type": "stream",
     "text": [
      "\n",
      "ans =\n",
      "\n",
      "     3\n",
      "\n"
     ]
    }
   ],
   "source": [
    "length(E)"
   ]
  },
  {
   "cell_type": "code",
   "execution_count": 27,
   "metadata": {},
   "outputs": [
    {
     "name": "stdout",
     "output_type": "stream",
     "text": [
      "\n",
      "F =\n",
      "\n",
      "     1     2     3\n",
      "     4     5     6\n",
      "\n"
     ]
    }
   ],
   "source": [
    "F = [1 2 3; 4 5 6]"
   ]
  },
  {
   "cell_type": "code",
   "execution_count": 28,
   "metadata": {},
   "outputs": [
    {
     "name": "stdout",
     "output_type": "stream",
     "text": [
      "\n",
      "ans =\n",
      "\n",
      "     3\n",
      "\n"
     ]
    }
   ],
   "source": [
    "length(F)"
   ]
  },
  {
   "cell_type": "code",
   "execution_count": 29,
   "metadata": {},
   "outputs": [
    {
     "name": "stdout",
     "output_type": "stream",
     "text": [
      "\n",
      "ans =\n",
      "\n",
      "     1     3\n",
      "\n"
     ]
    }
   ],
   "source": [
    "size(E)"
   ]
  },
  {
   "cell_type": "code",
   "execution_count": 30,
   "metadata": {},
   "outputs": [
    {
     "name": "stdout",
     "output_type": "stream",
     "text": [
      "\n",
      "ans =\n",
      "\n",
      "     2     3\n",
      "\n"
     ]
    }
   ],
   "source": [
    "size(F)"
   ]
  },
  {
   "cell_type": "code",
   "execution_count": 31,
   "metadata": {},
   "outputs": [
    {
     "name": "stdout",
     "output_type": "stream",
     "text": [
      "\n",
      "A =\n",
      "\n",
      "     1     2\n",
      "     3     4\n",
      "\n"
     ]
    }
   ],
   "source": [
    "A"
   ]
  },
  {
   "cell_type": "code",
   "execution_count": 32,
   "metadata": {},
   "outputs": [
    {
     "name": "stdout",
     "output_type": "stream",
     "text": [
      "\n",
      "A =\n",
      "\n",
      "     1     2     3\n",
      "     4     5     6\n",
      "     7     8     9\n",
      "\n"
     ]
    }
   ],
   "source": [
    "A = [1 2 3; 4 5 6; 7 8 9]"
   ]
  },
  {
   "cell_type": "code",
   "execution_count": 33,
   "metadata": {},
   "outputs": [
    {
     "name": "stdout",
     "output_type": "stream",
     "text": [
      "\n",
      "B =\n",
      "\n",
      "     9     8     7\n",
      "     6     5     4\n",
      "     3     2     1\n",
      "\n"
     ]
    }
   ],
   "source": [
    "B = [9 8 7; 6 5 4; 3 2 1]"
   ]
  },
  {
   "cell_type": "code",
   "execution_count": 34,
   "metadata": {},
   "outputs": [
    {
     "name": "stdout",
     "output_type": "stream",
     "text": [
      "\n",
      "ans =\n",
      "\n",
      "    10    10    10\n",
      "    10    10    10\n",
      "    10    10    10\n",
      "\n"
     ]
    }
   ],
   "source": [
    "A+B"
   ]
  },
  {
   "cell_type": "code",
   "execution_count": null,
   "metadata": {},
   "outputs": [],
   "source": [
    "G = [1 2; 3 4]"
   ]
  },
  {
   "cell_type": "code",
   "execution_count": 1,
   "metadata": {},
   "outputs": [
    {
     "name": "stdout",
     "output_type": "stream",
     "text": [
      "\n",
      "ans =\n",
      "\n",
      "    9.6349\n",
      "\n"
     ]
    }
   ],
   "source": [
    "blsprice(100, 100, 0.05, 0.5, 0.3, 0)"
   ]
  },
  {
   "cell_type": "code",
   "execution_count": 5,
   "metadata": {},
   "outputs": [
    {
     "name": "stdout",
     "output_type": "stream",
     "text": [
      "\n",
      "Call =\n",
      "\n",
      "    0.3652    1.1806    2.2133    3.3493    4.5398    5.7616\n",
      "    1.4668    2.7344    4.0427    5.3665    6.6969    8.0298\n",
      "    3.8740    5.2256    6.5940    7.9681    9.3436   10.7187\n",
      "    7.5712    8.6115    9.8256   11.1168   12.4473   13.7993\n",
      "    3.8740    5.2256    6.5940    7.9681    9.3436   10.7187\n",
      "\n"
     ]
    }
   ],
   "source": [
    "Call = Price_Chg([90 95 100 105 100], 100, 0.05, 0.5, [0.1 0.15 0.2 0.25 0.3 0.35], 0.01)"
   ]
  },
  {
   "cell_type": "code",
   "execution_count": 6,
   "metadata": {},
   "outputs": [
    {
     "name": "stdout",
     "output_type": "stream",
     "text": [
      "경고: fplot은 향후 릴리스에서 문자형 벡터나 string형 입력값을 허용하지 않을 예정입니다. fplot(@@(x)max(x-100,0))을(를) 대신 사용하십시오.\n",
      "> In fplot (line 106)\n"
     ]
    },
    {
     "data": {
      "image/png": "[encoded data removed]",
      "text/plain": [
       "<IPython.core.display.Image object>"
      ]
     },
     "metadata": {},
     "output_type": "display_data"
    }
   ],
   "source": [
    "fplot('max(x-100,0)', [50 150])"
   ]
  },
  {
   "cell_type": "code",
   "execution_count": 13,
   "metadata": {},
   "outputs": [
    {
     "name": "stdout",
     "output_type": "stream",
     "text": [
      "경고: fplot은 향후 릴리스에서 문자형 벡터나 string형 입력값을 허용하지 않을 예정입니다. fplot(@@(x)max(x-100,0))을(를) 대신 사용하십시오.\n",
      "> In fplot (line 106)\n"
     ]
    },
    {
     "data": {
      "image/png": "[encoded data removed]",
      "text/plain": [
       "<IPython.core.display.Image object>"
      ]
     },
     "metadata": {},
     "output_type": "display_data"
    }
   ],
   "source": [
    "fplot('max(x-100,0)', [50 150], '*');\n",
    "\n",
    "xlabel('Stock Price');\n",
    "ylabel('Pay-Off');\n",
    "\n",
    "title('Pay-off of Call Option');\n",
    "text(80, 30, 'Maturity Pay-off');\n",
    "legend('Pay-Off');\n",
    "\n",
    "grid on"
   ]
  },
  {
   "cell_type": "code",
   "execution_count": 14,
   "metadata": {},
   "outputs": [
    {
     "data": {
      "image/png": "[encoded data removed]",
      "text/plain": [
       "<IPython.core.display.Image object>"
      ]
     },
     "metadata": {},
     "output_type": "display_data"
    }
   ],
   "source": [
    "t = 0:pi/50:10*pi;\n",
    "plot3(sin(t), cos(t), t);\n",
    "grid on\n",
    "axis square"
   ]
  },
  {
   "cell_type": "code",
   "execution_count": null,
   "metadata": {},
   "outputs": [],
   "source": []
  }
 ],
 "metadata": {
  "kernelspec": {
   "display_name": "Matlab",
   "language": "matlab",
   "name": "matlab"
  },
  "language_info": {
   "codemirror_mode": "octave",
   "file_extension": ".m",
   "help_links": [
    {
     "text": "MetaKernel Magics",
     "url": "https://github.com/calysto/metakernel/blob/master/metakernel/magics/README.md"
    }
   ],
   "mimetype": "text/x-octave",
   "name": "matlab",
   "version": "0.16.1"
  }
 },
 "nbformat": 4,
 "nbformat_minor": 2
}
