{
 "cells": [
  {
   "cell_type": "code",
   "execution_count": 12,
   "metadata": {},
   "outputs": [
    {
     "name": "stdout",
     "output_type": "stream",
     "text": [
      "Created file '/Users/changsoo/Desktop/논문/Matlab/Para_VaR.m'.\n"
     ]
    }
   ],
   "source": [
    "%%file Para_VaR.m\n",
    "%Parametric VaR(Delta-Normal VaR & Delta-Gamma VaR)\n",
    "\n",
    "function VaR = Para_VaR(S, r, HS_Vol_Y, q, CL, N, POS)\n",
    "    \n",
    "    %Option Portfolio Data\n",
    "    LS      = POS(:, 1);         %Long/Short\n",
    "    C_P     = POS(:, 2);         %Call/Put\n",
    "    NC      = POS(:, 3);         %# of Contracts\n",
    "    M       = POS(:, 4);         %Multiplier\n",
    "    X       = POS(:, 5);         %Strike\n",
    "    T       = POS(:, 6);         %Time to Maturity\n",
    "    Imp_Vol = POS(:, 7);         %Implied Volatility\n",
    "    MP      = POS(:, 8);         %Option Market Price\n",
    "    \n",
    "    %Option Portfolio Greeks\n",
    "    sz    = size(POS);\n",
    "    Delta = zeros(sz(1), 1);\n",
    "    Gamma = zeros(sz(1), 1);\n",
    "    for i=1:sz(1)\n",
    "        Delta(i) = LS(i) * NC(i) * M(i) * BS(C_P(i), 2, S, X(i), r, T(i), Imp_Vol(i), q);\n",
    "        Gamma(i) = LS(i) * NC(i) * M(i) * BS(C_P(i), 3, S, X(i), r, T(i), Imp_Vol(i), q);\n",
    "    end\n",
    "    \n",
    "    Port_Delta = sum(Delta);\n",
    "    Port_Gamma = sum(Gamma);\n",
    "    \n",
    "    %VaR\n",
    "    Alpha    = norminv(CL);          %Critical Values\n",
    "    HS_Vol_D = HS_Vol_Y / sqrt(250); %Historical 1-year vol\n",
    "    \n",
    "    %Delta-Normal VaR\n",
    "    DN_VaR   = abs(Alpha * Port_Delta * S * HS_Vol_D * sqrt(N));\n",
    "    \n",
    "    %Delta-Gamma VaR\n",
    "    DG_VaR   = (abs(Port_Delta) * (Alpha * HS_Vol_D * S) - 0.5 * Port_Gamma * (Alpha * HS_Vol_D * S)^2) * sqrt(N);\n",
    "    \n",
    "    VaR = [DN_VaR DG_VaR];"
   ]
  },
  {
   "cell_type": "code",
   "execution_count": 2,
   "metadata": {},
   "outputs": [
    {
     "name": "stdout",
     "output_type": "stream",
     "text": [
      "Created file '/Users/changsoo/Desktop/논문/Matlab/HS_VaR.m'.\n"
     ]
    }
   ],
   "source": [
    "%%file HS_VaR.m\n",
    "%Historical Simulation VaR\n",
    "\n",
    "function VaR = HS_VaR(S, r, q, CL, N, POS, HS_Price)\n",
    "    %Historical Stock Price -> Log Price\n",
    "    LogRet = price2ret(HS_Price);\n",
    "    \n",
    "    %Option Portfolio Data\n",
    "    LS      = POS(:, 1);             %log/short\n",
    "    C_P     = POS(:, 2);             %Call/Put\n",
    "    NC      = POS(:, 3);             %# of Contracts\n",
    "    M       = POS(:, 4);             %Multiplier\n",
    "    X       = POS(:, 5);             %Strike\n",
    "    T       = POS(:, 6);             %Time to Maturity\n",
    "    Imp_Vol = POS(:, 7);             %Implied Volatility\n",
    "    MP      = POS(:, 8);             %Option Market Price\n",
    "    \n",
    "    %1-day Stock Price Scenario\n",
    "    SP = S * exp(LogRet);\n",
    "    ns = length(SP);\n",
    "    sz = size(POS);\n",
    "    \n",
    "    %Option Full Valuation\n",
    "    Price = zeros(ns, sz(1));\n",
    "    for i=1:ns\n",
    "        for j=1:sz(1)\n",
    "            Price(i, j) = BS(C_P(j), 1, SP(i), X(j), r, T(j) -1/365, Imp_Vol(j), q);\n",
    "        end\n",
    "    end\n",
    "    \n",
    "    %Option Portfolio P&L\n",
    "    PL = zeros(ns, sz(1));\n",
    "    for i=1:ns\n",
    "        for j=1:sz(1)\n",
    "            PL(i, j) = LS(j) * NC(j) * M(j) * (Price(i, j) - MP(j));\n",
    "        end\n",
    "    end\n",
    "    Port_PL = sum(PL, 2);\n",
    "    \n",
    "    %Hostoricl Simulation VaR\n",
    "    VaR = -prctile(sort(Port_PL, 1), 100 * (1-CL)) * sqrt(N);\n",
    "    \n",
    "    "
   ]
  },
  {
   "cell_type": "code",
   "execution_count": 3,
   "metadata": {},
   "outputs": [
    {
     "name": "stdout",
     "output_type": "stream",
     "text": [
      "Created file '/Users/changsoo/Desktop/논문/Matlab/MC_VaR.m'.\n"
     ]
    }
   ],
   "source": [
    "%%file MC_VaR.m\n",
    "%Monte Carlo Simulation VaR\n",
    "\n",
    "function VaR = MC_VaR(S, r, HS_Vol_Y, q, CL, N, ns, POS)\n",
    "\n",
    "    %Option Portfolio Data\n",
    "    LS      = POS(:, 1);             %log/short\n",
    "    C_P     = POS(:, 2);             %Call/Put\n",
    "    NC      = POS(:, 3);             %# of Contracts\n",
    "    M       = POS(:, 4);             %Multiplier\n",
    "    X       = POS(:, 5);             %Strike\n",
    "    T       = POS(:, 6);             %Time to Maturity\n",
    "    Imp_Vol = POS(:, 7);             %Implied Volatility\n",
    "    MP      = POS(:, 8);             %Option Market Price\n",
    "    \n",
    "    %1-day stock price scenario\n",
    "    HS_Vol_D = HS_Vol_Y / sqrt(250);\n",
    "    w        = randn(ns, 1);\n",
    "    S_Ret    = w * HS_Vol_D;\n",
    "    SP       = S * exp(S_Ret);\n",
    "    \n",
    "    %Option Full Valuation\n",
    "    sz = size(POS);\n",
    "    Price = zeros(ns, sz(1));\n",
    "    for i=1:ns\n",
    "        for j=1:sz(1)\n",
    "            Price(i, j) = BS(C_P(j), 1, SP(i), X(j), r, T(j) -1/365, Imp_Vol(j), q);\n",
    "        end\n",
    "    end\n",
    "    \n",
    "    %Option Portfolio P&L\n",
    "    PL = zeros(ns, sz(1));\n",
    "    for i=1:ns\n",
    "        for j=1:sz(1)\n",
    "            PL(i, j) = LS(j) * NC(j) * M(j) * (Price(i, j) - MP(j));\n",
    "        end\n",
    "    end\n",
    "    Port_PL = sum(PL, 2);\n",
    "    \n",
    "    %Historicl Simulation VaR\n",
    "    VaR = -prctile(sort(Port_PL, 1), 100 * (1-CL)) * sqrt(N);\n",
    "    \n",
    "    %Option Portfolio P&L Distribution\n",
    "    histfit(Port_PL);\n",
    "    "
   ]
  },
  {
   "cell_type": "code",
   "execution_count": 4,
   "metadata": {},
   "outputs": [],
   "source": [
    "S=100; r=0.05; HS_Vol_Y=0.3; q=0.01; CL=0.95; N=1; ns=100000;\n",
    "POS = [-1 1 1 1 110 0.5 0.3 5.3845;\n",
    "       -1 2 1 1  90 0.5 0.3 3.3832];"
   ]
  },
  {
   "cell_type": "code",
   "execution_count": 9,
   "metadata": {},
   "outputs": [],
   "source": [
    "HS_Price = csvread('Historical_Price.csv');"
   ]
  },
  {
   "cell_type": "code",
   "execution_count": 13,
   "metadata": {},
   "outputs": [
    {
     "name": "stdout",
     "output_type": "stream",
     "text": [
      "\n",
      "VaR =\n",
      "\n",
      "    0.4931    0.6530\n",
      "\n"
     ]
    }
   ],
   "source": [
    "VaR = Para_VaR(S, r, HS_Vol_Y, q, CL, N, POS)"
   ]
  },
  {
   "cell_type": "code",
   "execution_count": 14,
   "metadata": {},
   "outputs": [
    {
     "name": "stdout",
     "output_type": "stream",
     "text": [
      "\n",
      "VaR =\n",
      "\n",
      "    0.6345\n",
      "\n"
     ]
    }
   ],
   "source": [
    "VaR = HS_VaR(S, r, q, CL, N, POS, HS_Price)"
   ]
  },
  {
   "cell_type": "code",
   "execution_count": 15,
   "metadata": {},
   "outputs": [
    {
     "name": "stdout",
     "output_type": "stream",
     "text": [
      "\n",
      "VaR =\n",
      "\n",
      "    0.6167\n",
      "\n"
     ]
    },
    {
     "data": {
      "image/png": "[encoded data removed]",
      "text/plain": [
       "<IPython.core.display.Image object>"
      ]
     },
     "metadata": {},
     "output_type": "display_data"
    }
   ],
   "source": [
    "VaR = MC_VaR(S, r, HS_Vol_Y, q, CL, N, ns, POS)"
   ]
  },
  {
   "cell_type": "code",
   "execution_count": null,
   "metadata": {},
   "outputs": [],
   "source": []
  },
  {
   "cell_type": "code",
   "execution_count": null,
   "metadata": {},
   "outputs": [],
   "source": []
  },
  {
   "cell_type": "code",
   "execution_count": null,
   "metadata": {},
   "outputs": [],
   "source": []
  }
 ],
 "metadata": {
  "kernelspec": {
   "display_name": "Matlab",
   "language": "matlab",
   "name": "matlab"
  },
  "language_info": {
   "codemirror_mode": "octave",
   "file_extension": ".m",
   "help_links": [
    {
     "text": "MetaKernel Magics",
     "url": "https://github.com/calysto/metakernel/blob/master/metakernel/magics/README.md"
    }
   ],
   "mimetype": "text/x-octave",
   "name": "matlab",
   "version": "0.16.1"
  }
 },
 "nbformat": 4,
 "nbformat_minor": 2
}
