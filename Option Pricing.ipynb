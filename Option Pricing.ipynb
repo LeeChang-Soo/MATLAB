{
 "cells": [
  {
   "cell_type": "markdown",
   "metadata": {},
   "source": [
    "### Black Scholes Option Pricing"
   ]
  },
  {
   "cell_type": "code",
   "execution_count": 30,
   "metadata": {},
   "outputs": [
    {
     "name": "stdout",
     "output_type": "stream",
     "text": [
      "Created file '/Users/changsoo/Desktop/논문/Matlab/BS_Vanilla.m'.\n"
     ]
    }
   ],
   "source": [
    "%%file BS_Vanilla.m\n",
    "\n",
    "function price = BS_Vanilla(C_P, S, X, r, T, vol, q)\n",
    "    \n",
    "    if nargin < 7, q=0;\n",
    "    end\n",
    "    \n",
    "    d1 = (log(S/X)+(r-q+1/2*vol^2)*T)/(vol*sqrt(T));\n",
    "    d2 = d1- vol*sqrt(T);\n",
    "    \n",
    "    if C_P == 'C'\n",
    "        price =  S*exp(-q*T)*normcdf(d1)  - X*exp(-r*T)*normcdf(d2);\n",
    "    elseif C_P == 'P'\n",
    "        price = -S*exp(-q*T)*normcdf(-d1) + X*exp(-r*T)*normcdf(-d2);\n",
    "    end"
   ]
  },
  {
   "cell_type": "code",
   "execution_count": 33,
   "metadata": {},
   "outputs": [
    {
     "name": "stdout",
     "output_type": "stream",
     "text": [
      "\n",
      "Call =\n",
      "\n",
      "    9.3436\n",
      "\n"
     ]
    }
   ],
   "source": [
    "Call = BS_Vanilla('C', 100, 100, 0.05, 0.5, 0.3, 0.01)"
   ]
  },
  {
   "cell_type": "code",
   "execution_count": 35,
   "metadata": {},
   "outputs": [
    {
     "name": "stdout",
     "output_type": "stream",
     "text": [
      "\n",
      "Put =\n",
      "\n",
      "    7.3733\n",
      "\n"
     ]
    }
   ],
   "source": [
    "Put = BS_Vanilla('P', 100, 100, 0.05, 0.5, 0.3, 0.01)"
   ]
  },
  {
   "cell_type": "code",
   "execution_count": 37,
   "metadata": {},
   "outputs": [
    {
     "name": "stdout",
     "output_type": "stream",
     "text": [
      "\n",
      "Call =\n",
      "\n",
      "    9.3436\n",
      "\n",
      "\n",
      "Put =\n",
      "\n",
      "    7.3733\n",
      "\n"
     ]
    }
   ],
   "source": [
    "[Call, Put] = blsprice(100, 100, 0.05, 0.5, 0.3, 0.01)"
   ]
  },
  {
   "cell_type": "markdown",
   "metadata": {},
   "source": [
    "### Barone-Adesi and Whaley American Option Pricing Approximation"
   ]
  },
  {
   "cell_type": "code",
   "execution_count": 38,
   "metadata": {},
   "outputs": [
    {
     "name": "stdout",
     "output_type": "stream",
     "text": [
      "Created file '/Users/changsoo/Desktop/논문/Matlab/nrcall.m'.\n"
     ]
    }
   ],
   "source": [
    "%%file nrcall.m\n",
    "%Barone-Adesi and Whaley American Call Option\n",
    "\n",
    "function result = nrcall(X, T, r, vol, q)\n",
    "\n",
    "    %기초상수 계산\n",
    "    b  = r - q;\n",
    "    n  = 2 * b / vol^2;\n",
    "    m  = 2 * r / vol^2;\n",
    "    K  = 2 * r / (vol^2 * (1-exp(-r*T)));\n",
    "    Q2 = (-(n-1) + sqrt((n-1)^2 + 4*K)) / 2;\n",
    "    \n",
    "    %초기 Si값 추정\n",
    "    q2u = (-(n-1) + sqrt((n-1)^2 + 4*m))/2;\n",
    "    Su  = X/(1-1/q2u);\n",
    "    h2  = -(b*T + 2*vol*sqrt(T)) * X/(Su-X);\n",
    "    Si  = X + (Su-X) * (1-exp(h2));\n",
    "    \n",
    "    %Newton-Raphson 방식으로 Si 계산\n",
    "    d1 = (log(Si/X) + (b+vol^2/2)*T) / (vol*sqrt(T));\n",
    "    LHS = Si-X;\n",
    "    RHS = BS_Vanilla('C', Si, X, r, T, vol, q)  + (1-exp((b-r)*T)*normcdf(d1)) * Si/Q2;\n",
    "    bi  = exp((b-r)*T) * normcdf(d1) * (1-1/Q2) + (1-exp((b-r)*T)*normpdf(d1) / (vol*sqrt(T)))/Q2;\n",
    "    E   = 0.000001;\n",
    "    \n",
    "    %|LHS(Si) - RHS(Si)|/X의 값이 오차범위 안으로 나올 때까지 반복적 계산\n",
    "    while abs(LHS-RHS) / X > E\n",
    "        Si  = (X + RHS - bi * Si) / (1-bi);\n",
    "        d1  = (log(Si/X) + (b+vol^2/2)*T) / (vol*sqrt(T));\n",
    "        LHS = Si - X;\n",
    "        RHS = BS_Vanilla('C', Si, X, r, T, vol, q)  + (1-exp((b-r)*T)*normcdf(d1)) * Si / Q2;\n",
    "        bi  = exp((b-r)*T) * normcdf(d1) * (1-1/Q2) + (1-exp((b-r)*T)*normpdf(d1) / (vol*sqrt(T)))/Q2;\n",
    "    end\n",
    "    \n",
    "    result = Si;\n"
   ]
  },
  {
   "cell_type": "code",
   "execution_count": 42,
   "metadata": {},
   "outputs": [
    {
     "name": "stdout",
     "output_type": "stream",
     "text": [
      "Created file '/Users/changsoo/Desktop/논문/Matlab/nrput.m'.\n"
     ]
    }
   ],
   "source": [
    "%%file nrput.m\n",
    "%Barone-Adesi and Whaley American Put Option\n",
    "\n",
    "function result = nrput(X, T, r, vol, q)\n",
    "\n",
    "    %기초상수 계산\n",
    "    b  = r - q;\n",
    "    n  = 2 * b / vol^2;\n",
    "    m  = 2 * r / vol^2;\n",
    "    K  = 2 * r / (vol^2 * (1-exp(-r*T)));\n",
    "    Q1 = (-(n-1) + sqrt((n-1)^2 + 4*K)) / 2;\n",
    "    \n",
    "    %초기 Si값 추정\n",
    "    q1u = (-(n-1) - sqrt((n-1)^2 + 4*m))/2;\n",
    "    Su  = X/(1-1/q1u);\n",
    "    h1  = (b*T - 2*vol*sqrt(T)) * X/(X-Su);\n",
    "    Si  = Su + (X - Su) * exp(h1);\n",
    "    \n",
    "    %Newton-Raphson 방식으로 Si 계산\n",
    "    d1 = (log(Si/X) + (b+vol^2/2)*T) / (vol*sqrt(T));\n",
    "    LHS = X - Si;\n",
    "    RHS = BS_Vanilla('P', Si, X, r, T, vol, q)    - (1-exp((b-r)*T)*normcdf(-d1)) * Si/Q1;\n",
    "    bi  = -exp((b-r)*T) * normcdf(-d1) * (1-1/Q1) - (1+exp((b-r)*T)*normpdf(-d1) / (vol*sqrt(T)))/Q1;\n",
    "    E   = 0.000001;\n",
    "    \n",
    "    %|LHS(Si) - RHS(Si)|/X의 값이 오차범위 안으로 나올 때까지 반복적 계산\n",
    "    while abs(LHS-RHS) / X > E\n",
    "        Si  = (X - RHS + bi * Si) / (1+bi);\n",
    "        d1  = (log(Si/X) + (b+vol^2/2)*T) / (vol*sqrt(T));\n",
    "        LHS = X - Si;\n",
    "        RHS = BS_Vanilla('P', Si, X, r, T, vol, q)    - (1-exp((b-r)*T)*normcdf(-d1)) * Si / Q1;\n",
    "        bi  = -exp((b-r)*T) * normcdf(-d1) * (1-1/Q1) - (1+exp((b-r)*T)*normpdf(-d1) / (vol*sqrt(T)))/Q1;\n",
    "    end\n",
    "    \n",
    "    result = Si;\n"
   ]
  },
  {
   "cell_type": "code",
   "execution_count": 43,
   "metadata": {},
   "outputs": [
    {
     "name": "stdout",
     "output_type": "stream",
     "text": [
      "Created file '/Users/changsoo/Desktop/논문/Matlab/BAW_Vanilla_Am.m'.\n"
     ]
    }
   ],
   "source": [
    "%%file BAW_Vanilla_Am.m\n",
    "%Barone-Adesi and Whaley American Vanilla Option Pricing Approximation\n",
    "\n",
    "function price = BAW_Vanilla_Am(C_P, S, X, r, T, vol, q)\n",
    "\n",
    "    %배당수익률을 입력하지 않을 경우 0 처리\n",
    "    if nargin < 7, q=0;\n",
    "    end\n",
    "    \n",
    "    if C_P == 'C'\n",
    "        if q == 0\n",
    "            price = BS_Vanilla('C', S, X, r, T, vol, q);\n",
    "        else\n",
    "            %임계치 Si를 구하기 위해 nrcall 함수 사용\n",
    "            Si = nrcall(X, T, r, vol, q);\n",
    "            n  = 2 * (r-q) / vol^2;\n",
    "            K  = 2 * r / (vol^2 * (1-exp(-r*T)));\n",
    "            d1 = (log(Si/X) + (r-q+vol^2/2)*T) / (vol*sqrt(T));\n",
    "            Q2 = (-(n-1) + sqrt((n-1)^2 + 4*K)) / 2;\n",
    "            a2 = (Si/Q2) * (1-exp((-q) * T) * normcdf(d1));\n",
    "            if S < Si\n",
    "                price = BS_Vanilla('C', S, X, r, T, vol, q) + a2 * (S/Si)^Q2;\n",
    "            else\n",
    "                price = S - X;\n",
    "            end\n",
    "        end\n",
    "    elseif C_P == 'P'\n",
    "        Si = nrput(X, T, r, vol, q);\n",
    "        n  = 2 * (r-q) / vol^2;\n",
    "        K  = 2 * r / (vol^2 * (1-exp(-r*T)));\n",
    "        d1 = (log(Si/X) + (r-q+vol^2/2) * T) / (vol*sqrt(T));\n",
    "        Q1 = (-(n-1) - sqrt((n-1)^2 + 4*K)) / 2;\n",
    "        a1 = -(Si / Q1) * (1-exp((-q) * T) * normcdf(-d1));\n",
    "        if S > Si\n",
    "            price = BS_Vanilla('P', S, X, r, T, vol, q) + a1 * (S/Si)^Q1;\n",
    "        else\n",
    "            price = X - S;\n",
    "        end\n",
    "    end"
   ]
  },
  {
   "cell_type": "code",
   "execution_count": 46,
   "metadata": {},
   "outputs": [
    {
     "name": "stdout",
     "output_type": "stream",
     "text": [
      "\n",
      "put =\n",
      "\n",
      "    7.5524\n",
      "\n"
     ]
    }
   ],
   "source": [
    "put = BAW_Vanilla_Am('P', 100, 100, 0.05, 0.5, 0.3, 0.01)"
   ]
  },
  {
   "cell_type": "code",
   "execution_count": 47,
   "metadata": {},
   "outputs": [
    {
     "name": "stdout",
     "output_type": "stream",
     "text": [
      "Created file '/Users/changsoo/Desktop/논문/Matlab/BS_Barrier.m'.\n"
     ]
    }
   ],
   "source": [
    "%%file BS_Barrier.m\n",
    "%European Barrier Option Pricing(Closed Form)\n",
    "\n",
    "function price = BS_Barrier(C_P, S, X, r, T, vol, B_type, B, q)\n",
    "\n",
    "    %배당수익률을 입력하지 않을 경우 0 처리\n",
    "    if nargin < 9, q=0;\n",
    "    end\n",
    "    \n",
    "    %계산시 필요한 상수 계산\n",
    "    if C_P == 'C'\n",
    "        phi = 1;\n",
    "    elseif C_P == 'P'\n",
    "        phi = -1;\n",
    "    end\n",
    "    \n",
    "    if B_type == 'di' | B_type == 'do'      %Down and in = di, Down and out = do\n",
    "        eta = 1;\n",
    "    elseif B_type == 'ui' | B_type == 'uo'  %Up and in = ui, Up and out = uo\n",
    "        eta = -1;\n",
    "    end\n",
    "    \n",
    "    mu = (r-q-vol^2/2)/vol^2;\n",
    "    x1 = log(S/X) / (vol*sqrt(T)) + (1+mu)*vol*sqrt(T);\n",
    "    x2 = log(S/B) / (vol*sqrt(T)) + (1+mu)*vol*sqrt(T);\n",
    "    y1 = log(B^2 / (S*X)) / (vol*sqrt(T)) + (1+mu)*vol*sqrt(T);\n",
    "    y2 = log(B/S) / (vol*sqrt(T)) + (1+mu)*vol*sqrt(T);\n",
    "    \n",
    "    %네 가지 기본식 계산\n",
    "    f1 = phi*S*exp(-q*T)*normcdf(phi*x1) - phi*X*exp(-r*T)*normcdf(phi*x1 - phi*vol*sqrt(T));\n",
    "    f2 = phi*S*exp(-q*T)*normcdf(phi*x2) - phi*X*exp(-r*T)*normcdf(phi*x2 - phi*vol*sqrt(T));\n",
    "    f3 = phi*S*exp(-q*T)*(B/S)^(2*(mu+1))*normcdf(eta*y1) - phi*X*exp(-r*T)*(B/S)^(2*mu)*normcdf(eta*y1-eta*vol*sqrt(T));\n",
    "    f4 = phi*S*exp(-q*T)*(B/S)^(2*(mu+1))*normcdf(eta*y2) - phi*X*exp(-r*T)*(B/S)^(2*mu)*normcdf(eta*y2-eta*vol*sqrt(T));\n",
    "    \n",
    "    %옵션 유형별 기본식 조합으로 옵션가치 평가\n",
    "    if C_P == 'C'\n",
    "        switch B_type\n",
    "            case 'di'\n",
    "                if X > B\n",
    "                    price = f3;\n",
    "                elseif X < B\n",
    "                    price = f1 - f2 + f4;\n",
    "                end\n",
    "            case 'do'\n",
    "                if X > B\n",
    "                    price = f1 - f3;\n",
    "                elseif X < B\n",
    "                    price = f2 - f4;\n",
    "                end\n",
    "            case 'ui'\n",
    "                if X > B\n",
    "                    price = f1;\n",
    "                elseif X < B\n",
    "                    price = f2 - f3 + f4;\n",
    "                end\n",
    "            case 'uo'\n",
    "                if X > B\n",
    "                    price = 0;\n",
    "                elseif X < B\n",
    "                    price = f1 - f2 + f3 - f4;\n",
    "                end\n",
    "        end\n",
    "    elseif C_P == 'P'\n",
    "        switch B_type\n",
    "            case 'di'\n",
    "                if X > B\n",
    "                    price = f2 - f3 + f4;\n",
    "                elseif X < B\n",
    "                    price = f1;\n",
    "                end\n",
    "            case 'do'\n",
    "                if X > B\n",
    "                    price = f1 - f2 + f3 - f4;\n",
    "                elseif X < B\n",
    "                    price = 0;\n",
    "                end\n",
    "            case 'ui'\n",
    "                if X > B\n",
    "                    price = f1 - f2 + f4;\n",
    "                elseif X < B\n",
    "                    price = f3;\n",
    "                end\n",
    "            case 'uo'\n",
    "                if X > B\n",
    "                    price = f2 - f4;\n",
    "                elseif X < B\n",
    "                    price = f1 - f3;\n",
    "                end\n",
    "        end\n",
    "    end\n",
    "    \n",
    "    if price <=0 \n",
    "        price=0;\n",
    "    end"
   ]
  },
  {
   "cell_type": "code",
   "execution_count": 50,
   "metadata": {},
   "outputs": [
    {
     "name": "stdout",
     "output_type": "stream",
     "text": [
      "\n",
      "a =\n",
      "\n",
      "    2.8481\n",
      "\n"
     ]
    }
   ],
   "source": [
    "%Knock-Out 콜옵션가격\n",
    "a = BS_Barrier('C', 100, 100, 0.05, 0.5, 0.3, 'uo', 130, 0.01)"
   ]
  },
  {
   "cell_type": "code",
   "execution_count": 51,
   "metadata": {},
   "outputs": [
    {
     "name": "stdout",
     "output_type": "stream",
     "text": [
      "\n",
      "b =\n",
      "\n",
      "    6.4955\n",
      "\n"
     ]
    }
   ],
   "source": [
    "%Knock-In 콜옵션 가격\n",
    "b = BS_Barrier('C', 100, 100, 0.05, 0.5, 0.3, 'ui', 130, 0.01)"
   ]
  },
  {
   "cell_type": "code",
   "execution_count": 52,
   "metadata": {},
   "outputs": [
    {
     "name": "stdout",
     "output_type": "stream",
     "text": [
      "\n",
      "c =\n",
      "\n",
      "    9.3436\n",
      "\n"
     ]
    }
   ],
   "source": [
    "c = BS_Vanilla('C', 100, 100, 0.05, 0.5, 0.3, 0.01)"
   ]
  },
  {
   "cell_type": "code",
   "execution_count": 53,
   "metadata": {},
   "outputs": [
    {
     "name": "stdout",
     "output_type": "stream",
     "text": [
      "\n",
      "check =\n",
      "\n",
      "    9.3436\n",
      "\n"
     ]
    }
   ],
   "source": [
    "%바닐라 옵션가격 = Knock-Out 콜옵션가격 + Knock-In 콜옵션 가격\n",
    "check = a+b"
   ]
  },
  {
   "cell_type": "code",
   "execution_count": 67,
   "metadata": {},
   "outputs": [
    {
     "name": "stdout",
     "output_type": "stream",
     "text": [
      "\n",
      "a =\n",
      "\n",
      "    4.6447\n",
      "\n"
     ]
    }
   ],
   "source": [
    "%Knock-out 풋옵션 가격\n",
    "a = BS_Barrier('P', 100, 100, 0.05, 0.5, 0.3, 'do', 70, 0.01)"
   ]
  },
  {
   "cell_type": "code",
   "execution_count": 68,
   "metadata": {},
   "outputs": [
    {
     "name": "stdout",
     "output_type": "stream",
     "text": [
      "\n",
      "b =\n",
      "\n",
      "    2.7287\n",
      "\n"
     ]
    }
   ],
   "source": [
    "%Knock-In 풋옵션 가격\n",
    "b = BS_Barrier('P', 100, 100, 0.05, 0.5, 0.3, 'di', 70, 0.01)"
   ]
  },
  {
   "cell_type": "code",
   "execution_count": 69,
   "metadata": {},
   "outputs": [
    {
     "name": "stdout",
     "output_type": "stream",
     "text": [
      "\n",
      "p =\n",
      "\n",
      "    7.3733\n",
      "\n"
     ]
    }
   ],
   "source": [
    "p = BS_Vanilla('P', 100, 100, 0.05, 0.5, 0.3, 0.01)"
   ]
  },
  {
   "cell_type": "code",
   "execution_count": 71,
   "metadata": {},
   "outputs": [
    {
     "name": "stdout",
     "output_type": "stream",
     "text": [
      "\n",
      "check =\n",
      "\n",
      "    7.3733\n",
      "\n"
     ]
    }
   ],
   "source": [
    "%바닐라 풋옵션가격 = Knock-Out 풋옵션 가격 + Knock-In 풋옵션 가격\n",
    "check = a+b"
   ]
  },
  {
   "cell_type": "code",
   "execution_count": null,
   "metadata": {},
   "outputs": [],
   "source": []
  }
 ],
 "metadata": {
  "kernelspec": {
   "display_name": "Matlab",
   "language": "matlab",
   "name": "matlab"
  },
  "language_info": {
   "codemirror_mode": "octave",
   "file_extension": ".m",
   "help_links": [
    {
     "text": "MetaKernel Magics",
     "url": "https://github.com/calysto/metakernel/blob/master/metakernel/magics/README.md"
    }
   ],
   "mimetype": "text/x-octave",
   "name": "matlab",
   "version": "0.16.1"
  }
 },
 "nbformat": 4,
 "nbformat_minor": 2
}
