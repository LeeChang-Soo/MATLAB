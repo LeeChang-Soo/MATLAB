{
 "cells": [
  {
   "cell_type": "markdown",
   "metadata": {},
   "source": [
    "### Black Scholes Option Pricing"
   ]
  },
  {
   "cell_type": "code",
   "execution_count": 6,
   "metadata": {},
   "outputs": [
    {
     "name": "stdout",
     "output_type": "stream",
     "text": [
      "Created file '/Users/changsoo/Desktop/논문/Matlab/BS_Vanilla.m'.\n"
     ]
    }
   ],
   "source": [
    "%%file BS_Vanilla.m\n",
    "\n",
    "function prices = BS_Vanilla(C_P, S, X, r, T, vol, q)\n",
    "    \n",
    "    if nargin < 7, q=0;\n",
    "    end\n",
    "    \n",
    "    d1 = (log(S/X)+(r-q+1/2*vol^2)*T)/(vol*sqrt(T));\n",
    "    d2 = d1- vol*sqrt(T);\n",
    "    \n",
    "    if C_P == 'C'\n",
    "        price = S*exp(-q*T).*normcdf(d1) - X*exp(-r*T)*normcdf(d2);\n",
    "    elseif C_P == 'P'\n",
    "        price = -S*exp(-q*T).*normcdf(-d1) + X*exp(-r*T)*normcdf(-d2);\n",
    "    end"
   ]
  },
  {
   "cell_type": "code",
   "execution_count": 17,
   "metadata": {},
   "outputs": [
    {
     "name": "stdout",
     "output_type": "stream",
     "text": [
      "\n",
      "ans =\n",
      "\n",
      "    2.8481\n",
      "\n"
     ]
    }
   ],
   "source": [
    "BS_Barrier('C', 100, 100, 0.05, 0.5, 0.3, 'uo', 130, 0.01)"
   ]
  },
  {
   "cell_type": "code",
   "execution_count": null,
   "metadata": {},
   "outputs": [],
   "source": []
  },
  {
   "cell_type": "code",
   "execution_count": null,
   "metadata": {},
   "outputs": [],
   "source": []
  },
  {
   "cell_type": "code",
   "execution_count": null,
   "metadata": {},
   "outputs": [],
   "source": []
  },
  {
   "cell_type": "code",
   "execution_count": null,
   "metadata": {},
   "outputs": [],
   "source": []
  },
  {
   "cell_type": "code",
   "execution_count": null,
   "metadata": {},
   "outputs": [],
   "source": []
  }
 ],
 "metadata": {
  "kernelspec": {
   "display_name": "Matlab",
   "language": "matlab",
   "name": "matlab"
  },
  "language_info": {
   "codemirror_mode": "octave",
   "file_extension": ".m",
   "help_links": [
    {
     "text": "MetaKernel Magics",
     "url": "https://github.com/calysto/metakernel/blob/master/metakernel/magics/README.md"
    }
   ],
   "mimetype": "text/x-octave",
   "name": "matlab",
   "version": "0.16.1"
  }
 },
 "nbformat": 4,
 "nbformat_minor": 2
}
