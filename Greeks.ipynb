{
 "cells": [
  {
   "cell_type": "code",
   "execution_count": 1,
   "metadata": {},
   "outputs": [
    {
     "name": "stdout",
     "output_type": "stream",
     "text": [
      "Created file '/Users/changsoo/Desktop/논문/Matlab/BS_Vanilla_Greeks.m'.\n"
     ]
    }
   ],
   "source": [
    "%%file BS_Vanilla_Greeks.m\n",
    "%European Vanilla Option Greeks (분석적 방법)\n",
    "\n",
    "function result = BS_Vanilla_Greeks(C_P, Greeks, S, X, r, T, vol, q)\n",
    "\n",
    "%d1, d2계산\n",
    "d1 = (log(S/X) + (r-q + vol^2/2)*T) / (vol*sqrt(T));\n",
    "d2 = d1 - vol*sqrt(T);\n",
    "\n",
    "%옵션 가격 및 민감도 계산\n",
    "%(N'(d1) : Normal Probability density function, mu=0, sigma=1)\n",
    "if C_P == 'C'\n",
    "    switch Greeks\n",
    "        case 'price'\n",
    "            result = S * exp(-q*T) * normcdf(d1) - X*exp(-r*T) * normcdf(d2);\n",
    "        case 'delta'\n",
    "            result = normcdf(d1) * exp(-q*T);\n",
    "        case 'gamma'\n",
    "            % N'(d1), Normpdf 함수 사용\n",
    "            result = (normpdf(d1) * exp(-q*T)) / (S*vol*sqrt(T));\n",
    "        case 'vega'\n",
    "            result = S * sqrt(T) * normpdf(d1) * exp(-q *T);\n",
    "        case 'theta'\n",
    "            result = (-S * normpdf(d1) * vol * exp(-q*T)) / (2 * sqrt(T)) + q * S * normcdf(d1) * exp(-q*T)...\n",
    "                      - r * X * exp(-r*T) * normcdf(d2);\n",
    "        case 'rho'\n",
    "            result = normcdf(d2) * X * T * exp(-r*T);\n",
    "    end\n",
    "elseif C_P == 'P'\n",
    "    switch Greeks\n",
    "        case 'price'\n",
    "            result = -S * exp(-q*T) * normcdf(-d1) + X * exp(-r*T) * normcdf(-d2);\n",
    "        case 'delta'\n",
    "            result = (normcdf(d1) -1) * exp(-q*T);\n",
    "        case 'gamma'\n",
    "            result = (normpdf(d1) * exp(-q*T)) / (S*vol*sqrt(T));\n",
    "        case 'vega'\n",
    "            result = S * sqrt(T) * normpdf(d1) * exp(-q *T);\n",
    "        case 'theta'\n",
    "            result = (-S * normpdf(d1) * vol * exp(-q*T)) / (2 * sqrt(T)) - q * S * normcdf(-d1) * exp(-q*T)...\n",
    "                      + r * X * exp(-r*T) * normcdf(-d2);\n",
    "        case 'rho'\n",
    "            result = -normcdf(-d2) * X * T * exp(-r*T);\n",
    "    end\n",
    "end"
   ]
  },
  {
   "cell_type": "code",
   "execution_count": 2,
   "metadata": {},
   "outputs": [],
   "source": [
    "C_P = 'C'; S = 100; X = 100; r=0.05; T=0.5; vol=0.3; q = 0.01;"
   ]
  },
  {
   "cell_type": "code",
   "execution_count": 3,
   "metadata": {},
   "outputs": [
    {
     "name": "stdout",
     "output_type": "stream",
     "text": [
      "\n",
      "Call_Delta =\n",
      "\n",
      "    0.5765\n",
      "\n"
     ]
    }
   ],
   "source": [
    "Call_Delta = BS_Vanilla_Greeks(C_P, 'delta', S, X, r, T, vol, q)"
   ]
  },
  {
   "cell_type": "code",
   "execution_count": 4,
   "metadata": {},
   "outputs": [
    {
     "name": "stdout",
     "output_type": "stream",
     "text": [
      "\n",
      "Call_Gamma =\n",
      "\n",
      "    0.0183\n",
      "\n"
     ]
    }
   ],
   "source": [
    "Call_Gamma = BS_Vanilla_Greeks(C_P, 'gamma', S, X, r, T, vol, q)"
   ]
  },
  {
   "cell_type": "code",
   "execution_count": 5,
   "metadata": {},
   "outputs": [
    {
     "name": "stdout",
     "output_type": "stream",
     "text": [
      "\n",
      "Call_Vega =\n",
      "\n",
      "   27.5111\n",
      "\n"
     ]
    }
   ],
   "source": [
    "Call_Vega = BS_Vanilla_Greeks(C_P, 'vega', S, X, r, T, vol, q)"
   ]
  },
  {
   "cell_type": "code",
   "execution_count": 6,
   "metadata": {},
   "outputs": [
    {
     "name": "stdout",
     "output_type": "stream",
     "text": [
      "\n",
      "Call_Theta =\n",
      "\n",
      "  -10.0922\n",
      "\n"
     ]
    }
   ],
   "source": [
    "Call_Theta = BS_Vanilla_Greeks(C_P, 'theta', S, X, r, T, vol, q)"
   ]
  },
  {
   "cell_type": "code",
   "execution_count": 7,
   "metadata": {},
   "outputs": [
    {
     "name": "stdout",
     "output_type": "stream",
     "text": [
      "\n",
      "Call_Rho =\n",
      "\n",
      "   24.1535\n",
      "\n"
     ]
    }
   ],
   "source": [
    "Call_Rho = BS_Vanilla_Greeks(C_P, 'rho', S, X, r, T, vol, q)"
   ]
  },
  {
   "cell_type": "code",
   "execution_count": 8,
   "metadata": {},
   "outputs": [
    {
     "name": "stdout",
     "output_type": "stream",
     "text": [
      "Created file '/Users/changsoo/Desktop/논문/Matlab/MC_Vanilla_Greeks.m'.\n"
     ]
    }
   ],
   "source": [
    "%%file MC_Vanilla_Greeks.m\n",
    "%European Vanilla Option Greeks(MC, 근사적방법)\n",
    "\n",
    "function result = MC_Vanilla_Greeks(C_P, Greeks, S_tick, S0, X, r, T, vol_tick, vol, q, N, ns)\n",
    "\n",
    "    dt = T/N;\n",
    "    \n",
    "    %S up, down\n",
    "    SU  = S0 + S_tick;\n",
    "    SD  = S0 - S_tick;\n",
    "    SP0 = zeros(ns, N+1);\n",
    "    SP0(:, 1) = S0;\n",
    "    SPU = zeros(ns, N+1);\n",
    "    SPU(:, 1) = SU;\n",
    "    SPD = zeros(ns, N+1);\n",
    "    SPD(:, 1) = SD;\n",
    "    \n",
    "    %vol up\n",
    "    volU    = vol + vol_tick;\n",
    "    SP_volU = zeros(ns, N+1);\n",
    "    SP_volU(:, 1) = S0;\n",
    "    \n",
    "    %stock process\n",
    "    for i=1:ns\n",
    "        w = randn(N, 1);\n",
    "        for j=2:N+1\n",
    "            SP0(i, j)     = SP0(i, j-1) * exp((r-q-vol^2/2) * dt + vol * sqrt(dt) * w(j-1));\n",
    "            SPU(i, j)     = SPU(i, j-1) * exp((r-q-vol^2/2) * dt + vol * sqrt(dt) * w(j-1));\n",
    "            SPD(i, j)     = SPD(i, j-1) * exp((r-q-vol^2/2) * dt + vol * sqrt(dt) * w(j-1));\n",
    "            SP_volU(i, j) = SP_volU(i, j-1) * exp((r-q-volU^2/2) * dt + volU * sqrt(dt) * w(j-1));\n",
    "        end\n",
    "    end\n",
    "    \n",
    "    %각 상황별 payoffs 계산\n",
    "    if C_P == 'C'\n",
    "        payoff0     = max(SP0(:, N+1) - X, 0);\n",
    "        payoffU     = max(SPU(:, N+1) - X, 0);\n",
    "        payoffD     = max(SPD(:, N+1) - X, 0);\n",
    "        payoff_volU = max(SP_volU(:, N+1) - X, 0);\n",
    "    else\n",
    "        payoff0     = max(X - SP0(:, N+1), 0);\n",
    "        payoffU     = max(X - SPU(:, N+1), 0);\n",
    "        payoffD     = max(X - SPD(:, N+1), 0);\n",
    "        payoff_volU = max(X - SP_volU(:, N+1), 0);\n",
    "    end\n",
    "        \n",
    "    %각 상황별 price 계산\n",
    "    V0 = exp(-r*T) * mean(payoff0);\n",
    "    VU = exp(-r*T) * mean(payoffU);\n",
    "    VD = exp(-r*T) * mean(payoffD);\n",
    "    V_volU = exp(-r*T) * mean(payoff_volU);\n",
    "    \n",
    "    %Greeks 계산\n",
    "    switch Greeks\n",
    "        case 'price'\n",
    "            result = V0;\n",
    "        case 'delta'\n",
    "            result = (VU-VD) / (SU-SD);\n",
    "        case 'gamma'\n",
    "            result = ((VU-V0) / (SU-S0) - (V0-VD)/(S0-SD)) / (0.5*(SU-SD));\n",
    "        case 'vega'\n",
    "            result = (V_volU - V0) / vol_tick;\n",
    "    end\n",
    "        "
   ]
  },
  {
   "cell_type": "code",
   "execution_count": 9,
   "metadata": {},
   "outputs": [],
   "source": [
    "C_P = 'C'; S_tick = 2; S0 = 100; X = 100; r=0.05; T=0.5; vol_tick=0.01; vol=0.3; q = 0.01; N= 1; ns=1000000;"
   ]
  },
  {
   "cell_type": "code",
   "execution_count": 10,
   "metadata": {},
   "outputs": [
    {
     "name": "stdout",
     "output_type": "stream",
     "text": [
      "\n",
      "Call_Delta =\n",
      "\n",
      "    0.5767\n",
      "\n"
     ]
    }
   ],
   "source": [
    "Call_Delta = MC_Vanilla_Greeks(C_P, 'delta', S_tick, S0, X, r, T, vol_tick, vol, q, N, ns)"
   ]
  },
  {
   "cell_type": "code",
   "execution_count": 11,
   "metadata": {},
   "outputs": [
    {
     "name": "stdout",
     "output_type": "stream",
     "text": [
      "\n",
      "Call_Gamma =\n",
      "\n",
      "    0.0183\n",
      "\n"
     ]
    }
   ],
   "source": [
    "Call_Gamma = MC_Vanilla_Greeks(C_P, 'gamma', S_tick, S0, X, r, T, vol_tick, vol, q, N, ns)"
   ]
  },
  {
   "cell_type": "code",
   "execution_count": 12,
   "metadata": {},
   "outputs": [
    {
     "name": "stdout",
     "output_type": "stream",
     "text": [
      "\n",
      "Call_Vega =\n",
      "\n",
      "   27.4497\n",
      "\n"
     ]
    }
   ],
   "source": [
    "Call_Vega = MC_Vanilla_Greeks(C_P, 'vega', S_tick, S0, X, r, T, vol_tick, vol, q, N, ns)"
   ]
  },
  {
   "cell_type": "code",
   "execution_count": 13,
   "metadata": {},
   "outputs": [
    {
     "name": "stdout",
     "output_type": "stream",
     "text": [
      "\n",
      "HC_ave =\n",
      "\n",
      "  963.3935\n",
      "\n",
      "\n",
      "HC_Var =\n",
      "\n",
      "   50.8363\n",
      "\n",
      "\n",
      "CI =\n",
      "\n",
      "  960.2388\n",
      "  966.5481\n",
      "\n",
      "\n",
      "SE =\n",
      "\n",
      "    1.6076\n",
      "\n"
     ]
    },
    {
     "data": {
      "image/png": "[encoded data removed]",
      "text/plain": [
       "<IPython.core.display.Image object>"
      ]
     },
     "metadata": {},
     "output_type": "display_data"
    }
   ],
   "source": [
    "%European Vanilla Call Option Dynamic Delta Hedging\n",
    "\n",
    "%기초변수 입력, ns : 헤징 시뮬레이션 횟수\n",
    "S0 = 100; X = 100; r = 0.05; T = 0.5; vol = 0.3; ns = 1000; ON = 100; rebalance = 'd';\n",
    "if rebalance == 'w'\n",
    "    N = round(T*52);\n",
    "elseif rebalance == 'd'\n",
    "    N = round(T*365);\n",
    "end\n",
    "\n",
    "tau = T/N;\n",
    "\n",
    "%배열생성\n",
    "S     = zeros(ns, N+1);         %주가\n",
    "delta = zeros(ns, N+1);         %단위델타\n",
    "D     = zeros(ns, N+1);         %수량델타\n",
    "reb   = zeros(ns, N+1);         %주식매매금액\n",
    "B     = zeros(ns, N+1);         %이자비용\n",
    "C     = zeros(ns, N+1);         %누적비용\n",
    "\n",
    "%배열초기값 Setting\n",
    "S(:, 1)     = S0;\n",
    "delta(:, 1) = blsdelta(S0, X, r, T, vol);\n",
    "D(:, 1)     = delta(:, 1) * ON;\n",
    "reb(:, 1)   = D(:, 1) * S0;\n",
    "C(:, 1)     = reb(:, 1);\n",
    "B(:, 1)     = 0;\n",
    "\n",
    "%헤징 시뮬레이션 실행\n",
    "for i=1:ns\n",
    "    w = randn(N, 1);\n",
    "    for j=2:N+1\n",
    "        %주가프로세스 생성\n",
    "        S(i, j) = S(i, j-1) * exp((r-vol^2/2) * tau + vol * sqrt(tau) * w(j-1, 1));\n",
    "        if j == N+1\n",
    "            if S(i, j) >= X\n",
    "                delta(i, j) = 1;\n",
    "            else\n",
    "                delta(i, j) = 0;\n",
    "            end\n",
    "        else\n",
    "            %각 시점별 단위델타 계산\n",
    "            delta(i, j) = blsdelta(S(i, j), X, r, T-(j-1)*tau, vol);\n",
    "        end\n",
    "        \n",
    "        %각 배열값 계산\n",
    "        D(i, j)   = delta(i, j) * ON;\n",
    "        reb(i, j) = (D(i, j) - D(i, j-1)) * S(i, j);\n",
    "        B(i, j)   = (exp(r*tau)-1) * C(i, j-1);\n",
    "        C(i, j)   = C(i, j-1) + reb(i, j) + B(i, j);\n",
    "    end\n",
    "end\n",
    "\n",
    "%헤지비용 계산\n",
    "BS_Call = blsprice(S0, X, r, T, vol) * ON;\n",
    "SP = S(:, end) .* D(:, end);\n",
    "OP = max(S(:, end) - X, 0) * ON;\n",
    "HC = exp(-r*T) * (C(:, end) - SP + OP);\n",
    "[HC_ave, HC_Var, CI] = normfit(HC)\n",
    "SE = HC_Var / sqrt(ns)\n",
    "histfit(HC)\n",
    "        "
   ]
  },
  {
   "cell_type": "code",
   "execution_count": 14,
   "metadata": {},
   "outputs": [
    {
     "name": "stdout",
     "output_type": "stream",
     "text": [
      "Created file '/Users/changsoo/Desktop/논문/Matlab/Vol_fun.m'.\n"
     ]
    }
   ],
   "source": [
    "%%file Vol_fun.m\n",
    "function f = Vol_fun(a, X)\n",
    "    f = a(1) + a(2) * X + a(3) * X.^2;"
   ]
  },
  {
   "cell_type": "code",
   "execution_count": 24,
   "metadata": {},
   "outputs": [
    {
     "name": "stdout",
     "output_type": "stream",
     "text": [
      "\n",
      "국소 최솟값을 찾았습니다.\n",
      "\n",
      "기울기의 크기가 최적성 허용오차의\n",
      "값보다 작기 때문에 최적화가 완료되었습니다.\n",
      "\n",
      "\n",
      "국소 최솟값을 찾았습니다.\n",
      "\n",
      "기울기의 크기가 최적성 허용오차의\n",
      "값보다 작기 때문에 최적화가 완료되었습니다.\n",
      "\n"
     ]
    }
   ],
   "source": [
    "%Smile Adjusted Delta\n",
    "\n",
    "%기초변수 입력\n",
    "S=194.59; r=0.0495; q=0; T=21/365;\n",
    "\n",
    "%Smile Adjusted Delta(Call)\n",
    "market_data = csvread('Call_data.csv');\n",
    "temp_size   = size(market_data);\n",
    "CX          = market_data(:, 1);         %행사가격\n",
    "CP          = market_data(:, 2);         %시장가격\n",
    "C_ImpVol    = zeros(temp_size(1), 1);    %콜옵션 내재변동성 초기화\n",
    "for i =1:temp_size(1)\n",
    "    C_ImpVol(i) = Newton_ImpVol('C', S, CX(i), r, T, q, CP(i));\n",
    "end\n",
    "\n",
    "Ca   = lsqcurvefit(@Vol_fun, [0.01 0.01 0.01], CX, C_ImpVol);\n",
    "C_dX = Ca(2) + 2 * Ca(3) * CX;\n",
    "\n",
    "%블랙숄즈 델타\n",
    "C_BSD = BS_Vanilla_Greeks('C', 'delta', S, CX, r, T, C_ImpVol, q);\n",
    "\n",
    "%블랙숄즈 베가\n",
    "C_BSV = BS_Vanilla_Greeks('C', 'vega', S, CX, r, T, C_ImpVol, q);\n",
    "\n",
    "C_SAD = C_BSD + C_BSV.*C_dX;\n",
    "\n",
    "%Smile Adjusted Delta(Put)\n",
    "market_data = csvread('Put_data.csv');\n",
    "temp_size   = size(market_data);\n",
    "PX          = market_data(:, 1);\n",
    "PP          = market_data(:, 2);\n",
    "\n",
    "P_ImpVol = zeros(temp_size(1), 1);\n",
    "for i=1:temp_size(1)\n",
    "    P_ImpVol(i) = Newton_ImpVol('P', S, PX(i), r, T, q, PP(i));\n",
    "end\n",
    "\n",
    "Pa    = lsqcurvefit(@Vol_fun, [0.01 0.01 0.01], PX, P_ImpVol);\n",
    "P_dX  = Pa(2) + 2 * Pa(3) * PX;\n",
    "P_BSD = BS_Vanilla_Greeks('P', 'delta', S, PX, r, T, P_ImpVol, q);\n",
    "P_BSV = BS_Vanilla_Greeks('P', 'vega',  S, PX, r, T, P_ImpVol, q);\n",
    "P_SAD = P_BSD + P_BSV .* P_dX;"
   ]
  },
  {
   "cell_type": "code",
   "execution_count": 27,
   "metadata": {},
   "outputs": [
    {
     "data": {
      "image/png": "[encoded data removed]",
      "text/plain": [
       "<IPython.core.display.Image object>"
      ]
     },
     "metadata": {},
     "output_type": "display_data"
    }
   ],
   "source": [
    "plot(CX, C_ImpVol, 'o')"
   ]
  },
  {
   "cell_type": "code",
   "execution_count": 28,
   "metadata": {},
   "outputs": [
    {
     "data": {
      "image/png": "[encoded data removed]",
      "text/plain": [
       "<IPython.core.display.Image object>"
      ]
     },
     "metadata": {},
     "output_type": "display_data"
    }
   ],
   "source": [
    "plot(PX, P_ImpVol, '*')"
   ]
  },
  {
   "cell_type": "code",
   "execution_count": 36,
   "metadata": {},
   "outputs": [
    {
     "name": "stdout",
     "output_type": "stream",
     "text": [
      "\n",
      "ans =\n",
      "\n",
      "  185.0000    0.8692    0.8462    0.0230\n",
      "  187.5000    0.8052    0.7748    0.0303\n",
      "  190.0000    0.7163    0.6783    0.0379\n",
      "  192.5000    0.6276    0.5845    0.0431\n",
      "  195.0000    0.5156    0.4694    0.0462\n",
      "  197.5000    0.3968    0.3514    0.0454\n",
      "  200.0000    0.2803    0.2400    0.0403\n",
      "  202.5000    0.1713    0.1404    0.0309\n",
      "  205.0000    0.0900    0.0700    0.0200\n",
      "  207.5000    0.0432    0.0317    0.0115\n",
      "  210.0000    0.0229    0.0160    0.0069\n",
      "\n"
     ]
    }
   ],
   "source": [
    "[CX C_BSD C_SAD C_BSD-C_SAD]"
   ]
  },
  {
   "cell_type": "code",
   "execution_count": 38,
   "metadata": {},
   "outputs": [
    {
     "data": {
      "image/png": "[encoded data removed]",
      "text/plain": [
       "<IPython.core.display.Image object>"
      ]
     },
     "metadata": {},
     "output_type": "display_data"
    }
   ],
   "source": [
    "plot(CX, C_BSD-C_SAD)"
   ]
  },
  {
   "cell_type": "code",
   "execution_count": 37,
   "metadata": {},
   "outputs": [
    {
     "name": "stdout",
     "output_type": "stream",
     "text": [
      "\n",
      "ans =\n",
      "\n",
      "  170.0000   -0.0169   -0.0247    0.0078\n",
      "  172.5000   -0.0234   -0.0333    0.0099\n",
      "  175.0000   -0.0337   -0.0467    0.0129\n",
      "  177.5000   -0.0481   -0.0647    0.0166\n",
      "  180.0000   -0.0746   -0.0972    0.0226\n",
      "  182.5000   -0.1054   -0.1335    0.0280\n",
      "  185.0000   -0.1520   -0.1867    0.0347\n",
      "  187.5000   -0.2097   -0.2504    0.0407\n",
      "  190.0000   -0.2880   -0.3341    0.0460\n",
      "  192.5000   -0.3781   -0.4270    0.0489\n",
      "  195.0000   -0.4843   -0.5332    0.0488\n",
      "  197.5000   -0.6020   -0.6469    0.0448\n",
      "  200.0000   -0.7190   -0.7561    0.0371\n",
      "  202.5000   -0.8107   -0.8388    0.0281\n",
      "  205.0000   -0.8715   -0.8920    0.0204\n",
      "  207.5000   -0.9428   -0.9532    0.0105\n",
      "\n"
     ]
    }
   ],
   "source": [
    "[PX P_BSD P_SAD P_BSD-P_SAD]"
   ]
  },
  {
   "cell_type": "code",
   "execution_count": 39,
   "metadata": {},
   "outputs": [
    {
     "data": {
      "image/png": "[encoded data removed]",
      "text/plain": [
       "<IPython.core.display.Image object>"
      ]
     },
     "metadata": {},
     "output_type": "display_data"
    }
   ],
   "source": [
    "plot(PX, P_BSD-P_SAD)"
   ]
  },
  {
   "cell_type": "code",
   "execution_count": 56,
   "metadata": {},
   "outputs": [
    {
     "name": "stdout",
     "output_type": "stream",
     "text": [
      "Created file '/Users/changsoo/Desktop/논문/Matlab/Trinomial_Vanilla_Greeks.m'.\n"
     ]
    }
   ],
   "source": [
    "%%file Trinomial_Vanilla_Greeks.m\n",
    "%European/American Vanilla Option Greeks (Trinomial Tree, 근사)\n",
    "\n",
    "function result = Trinomial_Vanilla_Greeks(Style, C_P, Greeks, S, X, r, T, vol, q, N)\n",
    "    dt = T / N;\n",
    "    \n",
    "    %주가, 파생상품가격 트리 생성\n",
    "    [p, f_tree, S_tree] = Trinomial_Vanilla_Tree(Style, C_P, S, X, r, T, vol, q, N);\n",
    "    \n",
    "    %상승, 하락, 유지시 주가 및 파생상품가격 초기화\n",
    "    SU = S_tree(N, 2);\n",
    "    S0 = S_tree(N+1, 2);\n",
    "    SD = S_tree(N+2, 2);\n",
    "    VU = f_tree(N, 2);\n",
    "    V0 = f_tree(N+1, 2);\n",
    "    VD = f_tree(N+2, 2);\n",
    "    \n",
    "    %상승변동성(1%상승) 시 파생상품가격\n",
    "    VvolU = Trinomial_Vanilla_Tree(Style, C_P, S, X, r, T, vol+0.01, q, N);\n",
    "    \n",
    "    %Greeks 계산\n",
    "    switch Greeks\n",
    "        case 'price'\n",
    "            result = p;\n",
    "        case 'delta'\n",
    "            result = (VU-VD) / (SU-SD);\n",
    "        case 'gamma'\n",
    "            result = ((VU-V0) / (SU-S0) - (V0 - VD) / (S0 - SD)) / (0.5 * (SU - SD));\n",
    "        case 'vega'\n",
    "            result = (VvolU - p) / 0.01;\n",
    "        case 'theta'\n",
    "            result = (V0 - p) / dt;\n",
    "    end"
   ]
  },
  {
   "cell_type": "code",
   "execution_count": 57,
   "metadata": {},
   "outputs": [
    {
     "name": "stdout",
     "output_type": "stream",
     "text": [
      "\n",
      "ans =\n",
      "\n",
      "   -0.4335\n",
      "\n"
     ]
    }
   ],
   "source": [
    "Trinomial_Vanilla_Greeks('AM', 'P', 'delta', 100, 100, 0.05, 0.5, 0.3, 0.01, 1000)"
   ]
  },
  {
   "cell_type": "code",
   "execution_count": 58,
   "metadata": {},
   "outputs": [
    {
     "name": "stdout",
     "output_type": "stream",
     "text": [
      "\n",
      "ans =\n",
      "\n",
      "    0.0195\n",
      "\n"
     ]
    }
   ],
   "source": [
    "Trinomial_Vanilla_Greeks('AM', 'P', 'gamma', 100, 100, 0.05, 0.5, 0.3, 0.01, 1000)"
   ]
  },
  {
   "cell_type": "code",
   "execution_count": 59,
   "metadata": {},
   "outputs": [
    {
     "name": "stdout",
     "output_type": "stream",
     "text": [
      "\n",
      "ans =\n",
      "\n",
      "   27.5004\n",
      "\n"
     ]
    }
   ],
   "source": [
    "Trinomial_Vanilla_Greeks('AM', 'P', 'vega', 100, 100, 0.05, 0.5, 0.3, 0.01, 1000)"
   ]
  },
  {
   "cell_type": "code",
   "execution_count": 60,
   "metadata": {},
   "outputs": [
    {
     "name": "stdout",
     "output_type": "stream",
     "text": [
      "\n",
      "ans =\n",
      "\n",
      "   -6.6624\n",
      "\n"
     ]
    }
   ],
   "source": [
    "Trinomial_Vanilla_Greeks('AM', 'P', 'theta', 100, 100, 0.05, 0.5, 0.3, 0.01, 1000)"
   ]
  },
  {
   "cell_type": "code",
   "execution_count": 61,
   "metadata": {},
   "outputs": [
    {
     "name": "stdout",
     "output_type": "stream",
     "text": [
      "Created file '/Users/changsoo/Desktop/논문/Matlab/Trinomial_KnockOut_Greeks.m'.\n"
     ]
    }
   ],
   "source": [
    "%%file Trinomial_KnockOut_Greeks.m\n",
    "%European/American KnockOut Option Greeks (Trinomial Tree, 근사)\n",
    "\n",
    "function result = Trinomial_KnockOut_Greeks(Style, C_P, Greeks, S, X, r, T, vol, KO, barrier, q, N)\n",
    "    dt = T / N;\n",
    "    \n",
    "    %주가, 파생상품가격 트리 생성\n",
    "    [p, f_tree, S_tree] = Trinomial_KnockOut_Tree(Style, C_P, S, X, r, T, vol, KO, barrier, q, N);\n",
    "    \n",
    "    %상승, 하락, 유지시 주가 및 파생상품가격 초기화\n",
    "    SU = S_tree(N, 2);\n",
    "    S0 = S_tree(N+1, 2);\n",
    "    SD = S_tree(N+2, 2);\n",
    "    VU = f_tree(N, 2);\n",
    "    V0 = f_tree(N+1, 2);\n",
    "    VD = f_tree(N+2, 2);\n",
    "    \n",
    "    %상승변동성(1%상승) 시 파생상품가격\n",
    "    VvolU = Trinomial_KnockOut_Tree(Style, C_P, S, X, r, T, vol+0.01, KO, barrier, q, N);\n",
    "    \n",
    "    %Greeks 계산\n",
    "    switch Greeks\n",
    "        case 'price'\n",
    "            result = p;\n",
    "        case 'delta'\n",
    "            result = (VU-VD) / (SU-SD);\n",
    "        case 'gamma'\n",
    "            result = ((VU-V0) / (SU-S0) - (V0 - VD) / (S0 - SD)) / (0.5 * (SU - SD));\n",
    "        case 'vega'\n",
    "            result = (VvolU - p) / 0.01;\n",
    "        case 'theta'\n",
    "            result = (V0 - p) / dt;\n",
    "    end"
   ]
  },
  {
   "cell_type": "code",
   "execution_count": 62,
   "metadata": {},
   "outputs": [
    {
     "name": "stdout",
     "output_type": "stream",
     "text": [
      "\n",
      "ans =\n",
      "\n",
      "    0.0296\n",
      "\n"
     ]
    }
   ],
   "source": [
    "Trinomial_KnockOut_Greeks('EU', 'C', 'delta', 100, 100, 0.05, 0.5, 0.3, 'U', 130, 0.01, 1000)"
   ]
  },
  {
   "cell_type": "code",
   "execution_count": 63,
   "metadata": {},
   "outputs": [
    {
     "name": "stdout",
     "output_type": "stream",
     "text": [
      "\n",
      "ans =\n",
      "\n",
      "    0.0364\n",
      "\n"
     ]
    }
   ],
   "source": [
    "Trinomial_KnockOut_Greeks('EU', 'C', 'delta', 100, 100, 0.05, 0.5, 0.3, 'U', 130, 0.01, 3000)"
   ]
  },
  {
   "cell_type": "code",
   "execution_count": 64,
   "metadata": {},
   "outputs": [
    {
     "name": "stdout",
     "output_type": "stream",
     "text": [
      "\n",
      "ans =\n",
      "\n",
      "   -0.0092\n",
      "\n"
     ]
    }
   ],
   "source": [
    "Trinomial_KnockOut_Greeks('EU', 'C', 'gamma', 100, 100, 0.05, 0.5, 0.3, 'U', 130, 0.01, 1000)"
   ]
  },
  {
   "cell_type": "code",
   "execution_count": 65,
   "metadata": {},
   "outputs": [
    {
     "name": "stdout",
     "output_type": "stream",
     "text": [
      "\n",
      "ans =\n",
      "\n",
      "  -14.6822\n",
      "\n"
     ]
    }
   ],
   "source": [
    "Trinomial_KnockOut_Greeks('EU', 'C', 'vega', 100, 100, 0.05, 0.5, 0.3, 'U', 130, 0.01, 1000)"
   ]
  },
  {
   "cell_type": "code",
   "execution_count": null,
   "metadata": {},
   "outputs": [],
   "source": []
  },
  {
   "cell_type": "code",
   "execution_count": null,
   "metadata": {},
   "outputs": [],
   "source": []
  },
  {
   "cell_type": "code",
   "execution_count": null,
   "metadata": {},
   "outputs": [],
   "source": []
  },
  {
   "cell_type": "code",
   "execution_count": null,
   "metadata": {},
   "outputs": [],
   "source": []
  },
  {
   "cell_type": "code",
   "execution_count": null,
   "metadata": {},
   "outputs": [],
   "source": []
  }
 ],
 "metadata": {
  "kernelspec": {
   "display_name": "Matlab",
   "language": "matlab",
   "name": "matlab"
  },
  "language_info": {
   "codemirror_mode": "octave",
   "file_extension": ".m",
   "help_links": [
    {
     "text": "MetaKernel Magics",
     "url": "https://github.com/calysto/metakernel/blob/master/metakernel/magics/README.md"
    }
   ],
   "mimetype": "text/x-octave",
   "name": "matlab",
   "version": "0.16.1"
  }
 },
 "nbformat": 4,
 "nbformat_minor": 2
}
